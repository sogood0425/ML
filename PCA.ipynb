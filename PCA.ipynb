{
 "cells": [
  {
   "cell_type": "code",
   "execution_count": 2,
   "metadata": {},
   "outputs": [
    {
     "name": "stdout",
     "output_type": "stream",
     "text": [
      "原始數據集 X：\n",
      " [[2.5 2.4]\n",
      " [0.5 0.7]\n",
      " [2.2 2.9]\n",
      " [1.9 2.2]\n",
      " [3.1 3. ]\n",
      " [2.3 2.7]\n",
      " [2.  1.6]\n",
      " [1.  1.1]\n",
      " [1.5 1.6]\n",
      " [1.1 0.9]]\n",
      "標準化後的數據集 X_std：\n",
      " [[ 0.92627881  0.61016865]\n",
      " [-1.7585873  -1.506743  ]\n",
      " [ 0.52354889  1.23278973]\n",
      " [ 0.12081898  0.36112022]\n",
      " [ 1.73173864  1.35731394]\n",
      " [ 0.6577922   0.9837413 ]\n",
      " [ 0.25506228 -0.38602507]\n",
      " [-1.08737078 -1.00864614]\n",
      " [-0.41615425 -0.38602507]\n",
      " [-0.95312747 -1.25769457]]\n"
     ]
    }
   ],
   "source": [
    "import numpy as np\n",
    "from sklearn.preprocessing import StandardScaler\n",
    "\n",
    "# 假設我們有一個數據集 X\n",
    "X = np.array([[2.5, 2.4],\n",
    "              [0.5, 0.7],\n",
    "              [2.2, 2.9],\n",
    "              [1.9, 2.2],\n",
    "              [3.1, 3.0],\n",
    "              [2.3, 2.7],\n",
    "              [2, 1.6],\n",
    "              [1, 1.1],\n",
    "              [1.5, 1.6],\n",
    "              [1.1, 0.9]])\n",
    "\n",
    "# 步驟 1：標準化數據\n",
    "X_std = StandardScaler().fit_transform(X)\n",
    "\n",
    "# 步驟 2：計算協方差矩陣\n",
    "cov_matrix = np.cov(X_std.T)\n",
    "\n",
    "# 步驟 3：計算特徵值和特徵向量\n",
    "eig_vals, eig_vecs = np.linalg.eig(cov_matrix)\n",
    "\n",
    "# 步驟 4：排序特徵值並選擇前 k 個特徵向量（假設我們選擇 k=1）\n",
    "eig_pairs = [(np.abs(eig_vals[i]), eig_vecs[:,i]) for i in range(len(eig_vals))]\n",
    "eig_pairs.sort(key=lambda x: x[0], reverse=True)\n",
    "W = eig_pairs[0][1].reshape(-1, 1)\n",
    "\n",
    "# 步驟 5：構建投影矩陣 W\n",
    "# 步驟 6：將原始數據集 X 轉換為 k 維特徵子空間 Y\n",
    "Y = X_std.dot(W)\n",
    "\n",
    "print(\"原始數據集 X：\\n\", X)\n",
    "print(\"標準化後的數據集 X_std：\\n\", X_std)\n",
    "\n"
   ]
  },
  {
   "cell_type": "code",
   "execution_count": 3,
   "metadata": {},
   "outputs": [
    {
     "name": "stdout",
     "output_type": "stream",
     "text": [
      "協方差矩陣：\n",
      " [[1.11111111 1.0288103 ]\n",
      " [1.0288103  1.11111111]]\n"
     ]
    }
   ],
   "source": [
    "print(\"協方差矩陣：\\n\", cov_matrix)\n"
   ]
  },
  {
   "cell_type": "code",
   "execution_count": 4,
   "metadata": {},
   "outputs": [
    {
     "name": "stdout",
     "output_type": "stream",
     "text": [
      "特徵值：\n",
      " [2.13992141 0.08230081]\n"
     ]
    }
   ],
   "source": [
    "print(\"特徵值：\\n\", eig_vals)\n"
   ]
  },
  {
   "cell_type": "code",
   "execution_count": 5,
   "metadata": {},
   "outputs": [
    {
     "name": "stdout",
     "output_type": "stream",
     "text": [
      "特徵向量：\n",
      " [[ 0.70710678 -0.70710678]\n",
      " [ 0.70710678  0.70710678]]\n"
     ]
    }
   ],
   "source": [
    "print(\"特徵向量：\\n\", eig_vecs)\n"
   ]
  },
  {
   "cell_type": "code",
   "execution_count": 6,
   "metadata": {},
   "outputs": [
    {
     "name": "stdout",
     "output_type": "stream",
     "text": [
      "投影矩陣 W：\n",
      " [[0.70710678]\n",
      " [0.70710678]]\n"
     ]
    }
   ],
   "source": [
    "print(\"投影矩陣 W：\\n\", W)\n"
   ]
  },
  {
   "cell_type": "code",
   "execution_count": 7,
   "metadata": {},
   "outputs": [
    {
     "name": "stdout",
     "output_type": "stream",
     "text": [
      "降維後的特徵子空間 Y：\n",
      " [[ 1.08643242]\n",
      " [-2.3089372 ]\n",
      " [ 1.24191895]\n",
      " [ 0.34078247]\n",
      " [ 2.18429003]\n",
      " [ 1.16073946]\n",
      " [-0.09260467]\n",
      " [-1.48210777]\n",
      " [-0.56722643]\n",
      " [-1.56328726]]\n"
     ]
    }
   ],
   "source": [
    "\n",
    "print(\"降維後的特徵子空間 Y：\\n\", Y)"
   ]
  }
 ],
 "metadata": {
  "kernelspec": {
   "display_name": "ml",
   "language": "python",
   "name": "python3"
  },
  "language_info": {
   "codemirror_mode": {
    "name": "ipython",
    "version": 3
   },
   "file_extension": ".py",
   "mimetype": "text/x-python",
   "name": "python",
   "nbconvert_exporter": "python",
   "pygments_lexer": "ipython3",
   "version": "3.12.4"
  }
 },
 "nbformat": 4,
 "nbformat_minor": 2
}

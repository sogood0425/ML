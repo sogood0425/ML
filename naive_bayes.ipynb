{
 "cells": [
  {
   "cell_type": "code",
   "execution_count": 19,
   "metadata": {},
   "outputs": [
    {
     "name": "stdout",
     "output_type": "stream",
     "text": [
      "Prediction (1 for spam, 0 for not spam): 1\n",
      "Probabilities (not spam, spam): [[0.28049793 0.71950207]]\n"
     ]
    }
   ],
   "source": [
    "import numpy as np\n",
    "from sklearn.feature_extraction.text import CountVectorizer\n",
    "from sklearn.naive_bayes import MultinomialNB\n",
    "from sklearn.pipeline import make_pipeline\n",
    "\n",
    "# Define the dataset\n",
    "documents = [\n",
    "    \"urgent money making offer\",   # Spam\n",
    "    \"limited time emergency sale\", # Spam\n",
    "    \"normal email from friend\",    # Not Spam\n",
    "    \"hello, let's catch up\",       # Not Spam\n",
    "    \"special offer just for you\",  # Spam\n",
    "    \"buy now or miss out\",         # Spam\n",
    "    \"meeting agenda\",              # Not Spam\n",
    "    \"weekly newsletter\",           # Not Spam\n",
    "    \"financial report\",            # Not Spam\n",
    "    \"update on project\"            # Not Spam\n",
    "]\n",
    "\n",
    "# Labels: 1 for spam, 0 for not spam\n",
    "labels = [1, 1, 0, 0, 1, 1, 0, 0, 0, 0]\n",
    "\n",
    "# Create the model pipeline\n",
    "model = make_pipeline(\n",
    "    CountVectorizer(),\n",
    "    MultinomialNB()\n",
    ")\n",
    "\n",
    "# Fit the model with the example data\n",
    "model.fit(documents, labels)\n",
    "\n",
    "# Define a new email to classify\n",
    "new_email = [\"emergency money\"]\n",
    "\n",
    "# Predict the class of the new email\n",
    "prediction = model.predict(new_email)\n",
    "\n",
    "# Calculate the probabilities\n",
    "probabilities = model.predict_proba(new_email)\n",
    "\n",
    "# Print the prediction and probabilities\n",
    "print(\"Prediction (1 for spam, 0 for not spam):\", prediction[0])\n",
    "print(\"Probabilities (not spam, spam):\", probabilities)\n"
   ]
  },
  {
   "cell_type": "code",
   "execution_count": 22,
   "metadata": {},
   "outputs": [
    {
     "name": "stdout",
     "output_type": "stream",
     "text": [
      "Prediction (1 for spam, 0 for not spam): 0\n",
      "Probabilities (not spam, spam): [0.73484902 0.26515098]\n"
     ]
    }
   ],
   "source": [
    "BernoulliNB_model = make_pipeline(\n",
    "    CountVectorizer(binary=True),  # Use binary=True to binarize the features\n",
    "    BernoulliNB()\n",
    ")\n",
    "\n",
    "# Fit the model with the example data\n",
    "BernoulliNB_model.fit(documents, labels)\n",
    "\n",
    "# Predict the class of the new email\n",
    "BernoulliNB_prediction = BernoulliNB_model.predict(new_email)\n",
    "\n",
    "# Calculate the probabilities\n",
    "BernoulliNB_probabilities = BernoulliNB_model.predict_proba(new_email)\n",
    "\n",
    "# Print the prediction and probabilities\n",
    "print(\"Prediction (1 for spam, 0 for not spam):\", BernoulliNB_prediction[0])\n",
    "print(\"Probabilities (not spam, spam):\", BernoulliNB_probabilities[0])"
   ]
  },
  {
   "cell_type": "code",
   "execution_count": 24,
   "metadata": {},
   "outputs": [
    {
     "name": "stdout",
     "output_type": "stream",
     "text": [
      "Prediction (1 for spam, 0 for not spam): 1\n",
      "Probabilities (not spam, spam): [0.20628624 0.79371376]\n"
     ]
    }
   ],
   "source": [
    "from sklearn.naive_bayes import ComplementNB\n",
    "\n",
    "ComplementNB_model = make_pipeline(\n",
    "    CountVectorizer(binary=True),  # Use binary=True to binarize the features\n",
    "    ComplementNB()\n",
    ")\n",
    "\n",
    "ComplementNB_model.fit(documents, labels)\n",
    "\n",
    "# Predict the class of the new email\n",
    "ComplementNB_prediction = ComplementNB_model.predict(new_email)\n",
    "\n",
    "# Calculate the probabilities\n",
    "ComplementNB_probabilities = ComplementNB_model.predict_proba(new_email)\n",
    "\n",
    "# Print the prediction and probabilities\n",
    "print(\"Prediction (1 for spam, 0 for not spam):\", ComplementNB_prediction[0])\n",
    "print(\"Probabilities (not spam, spam):\", ComplementNB_probabilities[0])"
   ]
  }
 ],
 "metadata": {
  "kernelspec": {
   "display_name": "ml",
   "language": "python",
   "name": "python3"
  },
  "language_info": {
   "codemirror_mode": {
    "name": "ipython",
    "version": 3
   },
   "file_extension": ".py",
   "mimetype": "text/x-python",
   "name": "python",
   "nbconvert_exporter": "python",
   "pygments_lexer": "ipython3",
   "version": "3.12.4"
  }
 },
 "nbformat": 4,
 "nbformat_minor": 2
}
